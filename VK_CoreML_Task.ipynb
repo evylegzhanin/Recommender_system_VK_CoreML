{
  "nbformat": 4,
  "nbformat_minor": 0,
  "metadata": {
    "colab": {
      "name": "VK_CoreML_Task.ipynb",
      "provenance": []
    },
    "kernelspec": {
      "name": "python3",
      "display_name": "Python 3"
    },
    "language_info": {
      "name": "python"
    },
    "widgets": {
      "application/vnd.jupyter.widget-state+json": {
        "dbc8b5bb75e84810a621220d39d4c1f0": {
          "model_module": "@jupyter-widgets/controls",
          "model_name": "HBoxModel",
          "model_module_version": "1.5.0",
          "state": {
            "_dom_classes": [],
            "_model_module": "@jupyter-widgets/controls",
            "_model_module_version": "1.5.0",
            "_model_name": "HBoxModel",
            "_view_count": null,
            "_view_module": "@jupyter-widgets/controls",
            "_view_module_version": "1.5.0",
            "_view_name": "HBoxView",
            "box_style": "",
            "children": [
              "IPY_MODEL_f2945bca7f734195b549af9ebb577d18",
              "IPY_MODEL_94939cf85b8741fcb0dc4022218e0fc6",
              "IPY_MODEL_be454672494944a8a4701ad2f1de0839"
            ],
            "layout": "IPY_MODEL_3d0e34a5305b44fa94dde07f736ff4ee"
          }
        },
        "f2945bca7f734195b549af9ebb577d18": {
          "model_module": "@jupyter-widgets/controls",
          "model_name": "HTMLModel",
          "model_module_version": "1.5.0",
          "state": {
            "_dom_classes": [],
            "_model_module": "@jupyter-widgets/controls",
            "_model_module_version": "1.5.0",
            "_model_name": "HTMLModel",
            "_view_count": null,
            "_view_module": "@jupyter-widgets/controls",
            "_view_module_version": "1.5.0",
            "_view_name": "HTMLView",
            "description": "",
            "description_tooltip": null,
            "layout": "IPY_MODEL_cfb93911a70e4126bc1da7089a0f84f0",
            "placeholder": "​",
            "style": "IPY_MODEL_114ae42cbd3a45b79a86b89b5817c37a",
            "value": "100%"
          }
        },
        "94939cf85b8741fcb0dc4022218e0fc6": {
          "model_module": "@jupyter-widgets/controls",
          "model_name": "FloatProgressModel",
          "model_module_version": "1.5.0",
          "state": {
            "_dom_classes": [],
            "_model_module": "@jupyter-widgets/controls",
            "_model_module_version": "1.5.0",
            "_model_name": "FloatProgressModel",
            "_view_count": null,
            "_view_module": "@jupyter-widgets/controls",
            "_view_module_version": "1.5.0",
            "_view_name": "ProgressView",
            "bar_style": "success",
            "description": "",
            "description_tooltip": null,
            "layout": "IPY_MODEL_fa7962e3088941308108d0055ca005f4",
            "max": 7,
            "min": 0,
            "orientation": "horizontal",
            "style": "IPY_MODEL_adb1ffab415d4dc6b9adf6b5ad5d3935",
            "value": 7
          }
        },
        "be454672494944a8a4701ad2f1de0839": {
          "model_module": "@jupyter-widgets/controls",
          "model_name": "HTMLModel",
          "model_module_version": "1.5.0",
          "state": {
            "_dom_classes": [],
            "_model_module": "@jupyter-widgets/controls",
            "_model_module_version": "1.5.0",
            "_model_name": "HTMLModel",
            "_view_count": null,
            "_view_module": "@jupyter-widgets/controls",
            "_view_module_version": "1.5.0",
            "_view_name": "HTMLView",
            "description": "",
            "description_tooltip": null,
            "layout": "IPY_MODEL_691dca1d773e40038b37fef43836c35d",
            "placeholder": "​",
            "style": "IPY_MODEL_9cd4fa3a73224fcb87eb36e937f1db07",
            "value": " 7/7 [00:33&lt;00:00,  4.79s/it]"
          }
        },
        "3d0e34a5305b44fa94dde07f736ff4ee": {
          "model_module": "@jupyter-widgets/base",
          "model_name": "LayoutModel",
          "model_module_version": "1.2.0",
          "state": {
            "_model_module": "@jupyter-widgets/base",
            "_model_module_version": "1.2.0",
            "_model_name": "LayoutModel",
            "_view_count": null,
            "_view_module": "@jupyter-widgets/base",
            "_view_module_version": "1.2.0",
            "_view_name": "LayoutView",
            "align_content": null,
            "align_items": null,
            "align_self": null,
            "border": null,
            "bottom": null,
            "display": null,
            "flex": null,
            "flex_flow": null,
            "grid_area": null,
            "grid_auto_columns": null,
            "grid_auto_flow": null,
            "grid_auto_rows": null,
            "grid_column": null,
            "grid_gap": null,
            "grid_row": null,
            "grid_template_areas": null,
            "grid_template_columns": null,
            "grid_template_rows": null,
            "height": null,
            "justify_content": null,
            "justify_items": null,
            "left": null,
            "margin": null,
            "max_height": null,
            "max_width": null,
            "min_height": null,
            "min_width": null,
            "object_fit": null,
            "object_position": null,
            "order": null,
            "overflow": null,
            "overflow_x": null,
            "overflow_y": null,
            "padding": null,
            "right": null,
            "top": null,
            "visibility": null,
            "width": null
          }
        },
        "cfb93911a70e4126bc1da7089a0f84f0": {
          "model_module": "@jupyter-widgets/base",
          "model_name": "LayoutModel",
          "model_module_version": "1.2.0",
          "state": {
            "_model_module": "@jupyter-widgets/base",
            "_model_module_version": "1.2.0",
            "_model_name": "LayoutModel",
            "_view_count": null,
            "_view_module": "@jupyter-widgets/base",
            "_view_module_version": "1.2.0",
            "_view_name": "LayoutView",
            "align_content": null,
            "align_items": null,
            "align_self": null,
            "border": null,
            "bottom": null,
            "display": null,
            "flex": null,
            "flex_flow": null,
            "grid_area": null,
            "grid_auto_columns": null,
            "grid_auto_flow": null,
            "grid_auto_rows": null,
            "grid_column": null,
            "grid_gap": null,
            "grid_row": null,
            "grid_template_areas": null,
            "grid_template_columns": null,
            "grid_template_rows": null,
            "height": null,
            "justify_content": null,
            "justify_items": null,
            "left": null,
            "margin": null,
            "max_height": null,
            "max_width": null,
            "min_height": null,
            "min_width": null,
            "object_fit": null,
            "object_position": null,
            "order": null,
            "overflow": null,
            "overflow_x": null,
            "overflow_y": null,
            "padding": null,
            "right": null,
            "top": null,
            "visibility": null,
            "width": null
          }
        },
        "114ae42cbd3a45b79a86b89b5817c37a": {
          "model_module": "@jupyter-widgets/controls",
          "model_name": "DescriptionStyleModel",
          "model_module_version": "1.5.0",
          "state": {
            "_model_module": "@jupyter-widgets/controls",
            "_model_module_version": "1.5.0",
            "_model_name": "DescriptionStyleModel",
            "_view_count": null,
            "_view_module": "@jupyter-widgets/base",
            "_view_module_version": "1.2.0",
            "_view_name": "StyleView",
            "description_width": ""
          }
        },
        "fa7962e3088941308108d0055ca005f4": {
          "model_module": "@jupyter-widgets/base",
          "model_name": "LayoutModel",
          "model_module_version": "1.2.0",
          "state": {
            "_model_module": "@jupyter-widgets/base",
            "_model_module_version": "1.2.0",
            "_model_name": "LayoutModel",
            "_view_count": null,
            "_view_module": "@jupyter-widgets/base",
            "_view_module_version": "1.2.0",
            "_view_name": "LayoutView",
            "align_content": null,
            "align_items": null,
            "align_self": null,
            "border": null,
            "bottom": null,
            "display": null,
            "flex": null,
            "flex_flow": null,
            "grid_area": null,
            "grid_auto_columns": null,
            "grid_auto_flow": null,
            "grid_auto_rows": null,
            "grid_column": null,
            "grid_gap": null,
            "grid_row": null,
            "grid_template_areas": null,
            "grid_template_columns": null,
            "grid_template_rows": null,
            "height": null,
            "justify_content": null,
            "justify_items": null,
            "left": null,
            "margin": null,
            "max_height": null,
            "max_width": null,
            "min_height": null,
            "min_width": null,
            "object_fit": null,
            "object_position": null,
            "order": null,
            "overflow": null,
            "overflow_x": null,
            "overflow_y": null,
            "padding": null,
            "right": null,
            "top": null,
            "visibility": null,
            "width": null
          }
        },
        "adb1ffab415d4dc6b9adf6b5ad5d3935": {
          "model_module": "@jupyter-widgets/controls",
          "model_name": "ProgressStyleModel",
          "model_module_version": "1.5.0",
          "state": {
            "_model_module": "@jupyter-widgets/controls",
            "_model_module_version": "1.5.0",
            "_model_name": "ProgressStyleModel",
            "_view_count": null,
            "_view_module": "@jupyter-widgets/base",
            "_view_module_version": "1.2.0",
            "_view_name": "StyleView",
            "bar_color": null,
            "description_width": ""
          }
        },
        "691dca1d773e40038b37fef43836c35d": {
          "model_module": "@jupyter-widgets/base",
          "model_name": "LayoutModel",
          "model_module_version": "1.2.0",
          "state": {
            "_model_module": "@jupyter-widgets/base",
            "_model_module_version": "1.2.0",
            "_model_name": "LayoutModel",
            "_view_count": null,
            "_view_module": "@jupyter-widgets/base",
            "_view_module_version": "1.2.0",
            "_view_name": "LayoutView",
            "align_content": null,
            "align_items": null,
            "align_self": null,
            "border": null,
            "bottom": null,
            "display": null,
            "flex": null,
            "flex_flow": null,
            "grid_area": null,
            "grid_auto_columns": null,
            "grid_auto_flow": null,
            "grid_auto_rows": null,
            "grid_column": null,
            "grid_gap": null,
            "grid_row": null,
            "grid_template_areas": null,
            "grid_template_columns": null,
            "grid_template_rows": null,
            "height": null,
            "justify_content": null,
            "justify_items": null,
            "left": null,
            "margin": null,
            "max_height": null,
            "max_width": null,
            "min_height": null,
            "min_width": null,
            "object_fit": null,
            "object_position": null,
            "order": null,
            "overflow": null,
            "overflow_x": null,
            "overflow_y": null,
            "padding": null,
            "right": null,
            "top": null,
            "visibility": null,
            "width": null
          }
        },
        "9cd4fa3a73224fcb87eb36e937f1db07": {
          "model_module": "@jupyter-widgets/controls",
          "model_name": "DescriptionStyleModel",
          "model_module_version": "1.5.0",
          "state": {
            "_model_module": "@jupyter-widgets/controls",
            "_model_module_version": "1.5.0",
            "_model_name": "DescriptionStyleModel",
            "_view_count": null,
            "_view_module": "@jupyter-widgets/base",
            "_view_module_version": "1.2.0",
            "_view_name": "StyleView",
            "description_width": ""
          }
        }
      }
    }
  },
  "cells": [
    {
      "cell_type": "markdown",
      "source": [
        "## Загрузка файлов в Google Colab"
      ],
      "metadata": {
        "id": "v8Ee_qMeeTb5"
      }
    },
    {
      "cell_type": "markdown",
      "source": [
        " Для работы с большими файлами в Google Colab лучше добавить все файлы на Google Drive и испортировать их в ноутбук. "
      ],
      "metadata": {
        "id": "WrD_GlPNeHDw"
      }
    },
    {
      "cell_type": "code",
      "execution_count": 788,
      "metadata": {
        "colab": {
          "base_uri": "https://localhost:8080/"
        },
        "id": "fgX0PUd8cXob",
        "outputId": "f245691e-d5b6-44e2-f933-347591f3e771"
      },
      "outputs": [
        {
          "output_type": "stream",
          "name": "stdout",
          "text": [
            "Drive already mounted at /content/drive/; to attempt to forcibly remount, call drive.mount(\"/content/drive/\", force_remount=True).\n"
          ]
        }
      ],
      "source": [
        "from google.colab import drive\n",
        "drive.mount('/content/drive/')"
      ]
    },
    {
      "cell_type": "markdown",
      "source": [
        "Изменим рабочую директорию, чтобы упростить путь к файлам."
      ],
      "metadata": {
        "id": "FdgMFSDUDc3I"
      }
    },
    {
      "cell_type": "code",
      "source": [
        "%cd /content/drive/My Drive/VK_CoreML_Task/"
      ],
      "metadata": {
        "colab": {
          "base_uri": "https://localhost:8080/"
        },
        "id": "iUUCaG59ef1S",
        "outputId": "0ade1c37-d14a-47af-e17d-82603b1fb79d"
      },
      "execution_count": 789,
      "outputs": [
        {
          "output_type": "stream",
          "name": "stdout",
          "text": [
            "/content/drive/My Drive/VK_CoreML_Task\n"
          ]
        }
      ]
    },
    {
      "cell_type": "markdown",
      "source": [
        "Датасет проще загружать в виде zip-архива, поэтому в Google Colab его необходимо разархивировать."
      ],
      "metadata": {
        "id": "0YU7MaBmDmRq"
      }
    },
    {
      "cell_type": "code",
      "source": [
        "# !unzip \"Datasets.zip\""
      ],
      "metadata": {
        "id": "3TzhnANvs_3Z"
      },
      "execution_count": 790,
      "outputs": []
    },
    {
      "cell_type": "markdown",
      "source": [
        "## Библиотеки и пакеты"
      ],
      "metadata": {
        "id": "fYRBYjtHsHLd"
      }
    },
    {
      "cell_type": "markdown",
      "source": [
        "Установим необходимые библиотеки: Surprise (collaborative filtering) и LightFM (Hybrid recommender system)."
      ],
      "metadata": {
        "id": "Qg4uFlImD3vU"
      }
    },
    {
      "cell_type": "code",
      "source": [
        "# !pip install surprise\n",
        "# !pip install lightfm"
      ],
      "metadata": {
        "id": "cdwR_3W369Ci"
      },
      "execution_count": 791,
      "outputs": []
    },
    {
      "cell_type": "markdown",
      "source": [
        "Импортируем библиотеки."
      ],
      "metadata": {
        "id": "OQ6mO1CCsFp5"
      }
    },
    {
      "cell_type": "code",
      "source": [
        "import pandas as pd\n",
        "import numpy as np\n",
        "import seaborn as sns\n",
        "import datetime\n",
        "import random\n",
        "import time\n",
        "from random import shuffle\n",
        "from collections import defaultdict\n",
        "from surprise import SVD\n",
        "from surprise import Dataset as Dataset_svd\n",
        "from surprise import Reader\n",
        "from surprise import accuracy\n",
        "from surprise.model_selection import cross_validate\n",
        "from sklearn.metrics import pairwise_distances\n",
        "from sklearn.model_selection import train_test_split\n",
        "from lightfm.data import Dataset\n",
        "from lightfm import LightFM\n",
        "from tqdm.auto import tqdm"
      ],
      "metadata": {
        "id": "uuC4KKKAiIyC"
      },
      "execution_count": 792,
      "outputs": []
    },
    {
      "cell_type": "code",
      "source": [
        "# Установим random.seed для воспроизводимости результатов\n",
        "np.random.seed(42)"
      ],
      "metadata": {
        "id": "nebzO8sePBHg"
      },
      "execution_count": 793,
      "outputs": []
    },
    {
      "cell_type": "markdown",
      "source": [
        "Установим параметры вывода данных в Pandas."
      ],
      "metadata": {
        "id": "KF8UtJWeELyp"
      }
    },
    {
      "cell_type": "code",
      "source": [
        "pd.set_option(\"display.min_rows\", 30)\n",
        "pd.set_option(\"display.max_columns\", 30)\n",
        "pd.set_option('display.width', 1000)"
      ],
      "metadata": {
        "id": "_itf46LJELPs"
      },
      "execution_count": 794,
      "outputs": []
    },
    {
      "cell_type": "markdown",
      "source": [
        "### Загрузка данных"
      ],
      "metadata": {
        "id": "nT9YpEhJIrK-"
      }
    },
    {
      "cell_type": "markdown",
      "source": [
        "Считаем данные из .csv файлов. Основной файл с взаимодействиями пользователь-фильм является очень большим. Я буду использовать только часть датасета. Количество строк задается в отдельной переменной."
      ],
      "metadata": {
        "id": "bmO_GKw6EP8U"
      }
    },
    {
      "cell_type": "code",
      "source": [
        "N_ROWS_UPLOAD = 2000000\n",
        "# Основной файл с взаимодействием пользователь-фильм\n",
        "data_rating = pd.read_csv('rating.csv', nrows = N_ROWS_UPLOAD)\n",
        "# Информация о фильмах\n",
        "data_movie  = pd.read_csv('movie.csv')\n",
        "# Информация о тегах, выставленных пользователями к фильмам\n",
        "data_tag = pd.read_csv('tag.csv')\n",
        "# Информация о релевантности определенных тегов к фильмам\n",
        "data_relevance = pd.read_csv('genome_scores.csv')\n",
        "# Соответствие тега и его id\n",
        "data_tag_id = pd.read_csv('genome_tags.csv')\n",
        "# еще один файл со ссылками на оценки на других сервисах не использовался"
      ],
      "metadata": {
        "id": "Rdepa4YosYrQ"
      },
      "execution_count": 795,
      "outputs": []
    },
    {
      "cell_type": "markdown",
      "source": [
        "### Фильтрация данных"
      ],
      "metadata": {
        "id": "MbidAftAI15h"
      }
    },
    {
      "cell_type": "markdown",
      "source": [
        "Отфильтруем фильмы, имеющие меньше 500 оценок и пользователей с менее 150 и более 5000 просмотренных фильмов. Помимо информативной нагрузки (менее 150 фильмов и менее 50 оценок фильма - недостаточно данных, более 5000 фильмов в коллекции - слишком много данных), это удобно сделать и для разделения данных на train-validation-test, чтобы в каждой части было достаточное количество данных. "
      ],
      "metadata": {
        "id": "Ix-048IpEpuD"
      }
    },
    {
      "cell_type": "code",
      "source": [
        "rating_to_reduce = data_rating.copy()\n",
        "rating_to_reduce['count_movie'] = rating_to_reduce['movieId'].map(rating_to_reduce['movieId'].value_counts())\n",
        "# Количество фильмов > 500\n",
        "rating_movies = rating_to_reduce.loc[rating_to_reduce['count_movie'] > 500]\n",
        "rating_movies['count_user'] = rating_movies['userId'].map(rating_movies['userId'].value_counts())\n",
        "# Количество просмотренных фильмов пользователем от 150 до 5000\n",
        "rating_mov_users = rating_movies.loc[(rating_movies['count_user'] >= 150) & \n",
        "                                     (rating_movies['count_user'] <= 5000)]\n",
        "# Проверим размер данных после фильтрации\n",
        "rating_movies.shape, rating_mov_users.shape"
      ],
      "metadata": {
        "colab": {
          "base_uri": "https://localhost:8080/"
        },
        "id": "Gy_hiNPU5MjK",
        "outputId": "8bbc2fd0-19bd-4f79-8bf6-94f39779bae1"
      },
      "execution_count": 796,
      "outputs": [
        {
          "output_type": "execute_result",
          "data": {
            "text/plain": [
              "((1283820, 6), (700603, 6))"
            ]
          },
          "metadata": {},
          "execution_count": 796
        }
      ]
    },
    {
      "cell_type": "markdown",
      "source": [
        "### Разбиение датасета на train-validation-test части"
      ],
      "metadata": {
        "id": "QataNyRnI9tk"
      }
    },
    {
      "cell_type": "markdown",
      "source": [
        "Параметры разбиения датасета на train-validation-test.\n",
        "Датасет разбивается следующим образом:\n",
        "1. Для каждого пользователя выполняется сортировка по времени (timestamp).\n",
        "2. Выбирается определенное количество последних записей для validation и test частей, а остальное остается в train части."
      ],
      "metadata": {
        "id": "nDVYXBK6HpL4"
      }
    },
    {
      "cell_type": "code",
      "source": [
        "# Количество записей для набора validation+test\n",
        "NUMBER_OF_SAMPLES_VAL_TEST = 30\n",
        "# Количество записей для test части\n",
        "NUMBER_OF_SAMPLES_TEST = 15\n",
        "# Количество записй для validation части\n",
        "NUMBER_OF_SAMPLES_VAL = NUMBER_OF_SAMPLES_VAL_TEST - NUMBER_OF_SAMPLES_TEST\n",
        "# Сортировка по пользователю и в хронологическом порядке\n",
        "rating = rating_mov_users.sort_values(['userId', 'timestamp'],\n",
        "              ascending = [True, True], ignore_index=True)\n",
        "# Отбор данных для валидации и теста\n",
        "all_test_val = rating.groupby('userId').apply(lambda x: x[-NUMBER_OF_SAMPLES_VAL_TEST:]).reset_index(level=0, drop=True)\n",
        "# Отбор данных для тренировочной части\n",
        "train = rating.loc[set(rating.index) - set(all_test_val.index)]\n",
        "# Отбор данных для теста\n",
        "test = all_test_val.groupby('userId').apply(lambda x: x[-NUMBER_OF_SAMPLES_TEST:]).reset_index(level=0, drop=True)\n",
        "# Отбор данных для валидации\n",
        "val = all_test_val.loc[set(all_test_val.index) - set(test.index)].sort_values(['userId', 'timestamp'],\n",
        "              ascending = [True, True])"
      ],
      "metadata": {
        "id": "mRtVuKnl0gWI"
      },
      "execution_count": 797,
      "outputs": []
    },
    {
      "cell_type": "markdown",
      "source": [
        "Количество различных пользователей и фильмов в тренировочной части."
      ],
      "metadata": {
        "id": "wfFZZXZEJx2D"
      }
    },
    {
      "cell_type": "code",
      "source": [
        "number_of_users = train['userId'].nunique()\n",
        "number_of_movies = train['movieId'].nunique()\n",
        "print(f'Number of users = {number_of_users} | Number of movies = {number_of_movies}')"
      ],
      "metadata": {
        "id": "_6rHpxA0QFq7",
        "colab": {
          "base_uri": "https://localhost:8080/"
        },
        "outputId": "b8e5b2ca-58ac-4999-a8fd-2e9b4b31007c"
      },
      "execution_count": 798,
      "outputs": [
        {
          "output_type": "stream",
          "name": "stdout",
          "text": [
            "Number of users = 2499 | Number of movies = 1000\n"
          ]
        }
      ]
    },
    {
      "cell_type": "markdown",
      "source": [
        "Расчет средней оценки для каждого пользователя"
      ],
      "metadata": {
        "id": "AIKQ10d-cGgQ"
      }
    },
    {
      "cell_type": "code",
      "source": [
        "user_average_rating = defaultdict(float)\n",
        "for user in train['userId'].unique():\n",
        "  user_average_rating[user] = train[train['userId'] == user]['rating'].mean(axis=0)"
      ],
      "metadata": {
        "id": "3bJXjQYkcFOt"
      },
      "execution_count": 799,
      "outputs": []
    },
    {
      "cell_type": "markdown",
      "source": [
        "## Baseline решение"
      ],
      "metadata": {
        "id": "pGopi4a3uaXN"
      }
    },
    {
      "cell_type": "code",
      "source": [
        "def random_recommender(test):\n",
        "  recommendations = defaultdict(list)\n",
        "  for user in list(test['userId'].unique()):\n",
        "    tmp_recs = list(test[test['userId'] == user]['movieId'])\n",
        "    shuffle(tmp_recs)\n",
        "    recommendations[user] = tmp_recs\n",
        "  return recommendations"
      ],
      "metadata": {
        "id": "ejz_zjh4uZtz"
      },
      "execution_count": 800,
      "outputs": []
    },
    {
      "cell_type": "code",
      "source": [
        "random_recommendations = random_recommender(test)"
      ],
      "metadata": {
        "id": "iAuDWe3LvF-S"
      },
      "execution_count": 801,
      "outputs": []
    },
    {
      "cell_type": "markdown",
      "source": [
        "# Рекомендательная система на основе коллаборативной фильтрации"
      ],
      "metadata": {
        "id": "28wt-0cPcve9"
      }
    },
    {
      "cell_type": "markdown",
      "source": [
        "В следующей секции находятся полезные функции для получения рекомендаций на основе коллаборативной фильтрации."
      ],
      "metadata": {
        "id": "uQtQkMvKKMN9"
      }
    },
    {
      "cell_type": "code",
      "source": [
        "def SVD_train_test_preparation(train, test):\n",
        "  '''Вернет train и test для SVD'''\n",
        "  reader = Reader(rating_scale=(0.5, 5))\n",
        "  train_svd = train[['userId', 'movieId', 'rating']].copy()\n",
        "  svd_train = Dataset_svd.load_from_df(train_svd, reader)\n",
        "  trainset = svd_train.build_full_trainset()\n",
        "  val_svd = test[['userId', 'movieId', 'rating']].copy()\n",
        "  svd_val = Dataset_svd.load_from_df(val_svd, reader)\n",
        "  valset = svd_val.build_full_trainset()\n",
        "  testset = valset.build_testset()\n",
        "  return trainset, testset\n",
        "\n",
        "def SVD_make_predictions(svd, testset):\n",
        "  '''Вернет все предсказанные значения из test(val)'''\n",
        "  predictions = svd.test(testset)\n",
        "  user_est_true = defaultdict(list)\n",
        "  for uid, iid, true_r, est, _ in predictions:\n",
        "      user_est_true[uid].append((iid, est, true_r))\n",
        "  return user_est_true\n",
        "\n",
        "def SVD_list_recommended(user_est_true, average_ratings):\n",
        "  '''Вернет отсортированный список рекомендаций'''\n",
        "  recommendations = defaultdict(list)\n",
        "  for user, user_ratings in user_est_true.items():\n",
        "    user_ratings.sort(key=lambda x: x[1], reverse=True)\n",
        "    recommendations[user] = [x[0] for x in user_ratings]\n",
        "  return recommendations"
      ],
      "metadata": {
        "id": "oxN-zstSWV6B"
      },
      "execution_count": 802,
      "outputs": []
    },
    {
      "cell_type": "markdown",
      "source": [
        "GridSearch своими руками (т.к. не разбирался в предопределенном сплите на train-val из билиотеки Surprise, а кросс-валидацию решил не делать исходя из хронологии)"
      ],
      "metadata": {
        "id": "PYRXGkg3LoVp"
      }
    },
    {
      "cell_type": "code",
      "source": [
        "# Разбиение данных на тренировочную и валидационную части\n",
        "trainset_svd, valset_svd = SVD_train_test_preparation(train, val)\n",
        "# epochs = 30\n",
        "# result_svd_grid_search = []\n",
        "# for factor in range(10, 270, 50):\n",
        "#   for lr in [0.001, 0.005, 0.01, 0.05, 0.1]:\n",
        "#     svd = SVD(n_factors=factor, n_epochs=epochs, lr_all=lr)\n",
        "#     svd.fit(trainset_svd)\n",
        "#     predictions = svd.test(valset_svd)\n",
        "#     rmse = accuracy.rmse(predictions)\n",
        "#     result_svd_grid_search.append((factor, lr, rmse))"
      ],
      "metadata": {
        "id": "vcYaa6lRiQPH"
      },
      "execution_count": 803,
      "outputs": []
    },
    {
      "cell_type": "code",
      "source": [
        "# # Получение лучшей метрики и соответствующих ей параметров\n",
        "# best_result = sorted(result_svd_grid_search, key=lambda x: x[3])\n",
        "# # Размерность вектора скрытых признаков\n",
        "# best_fact = best_result[0][0] # 10\n",
        "# # Скорость обучения\n",
        "# best_lr = best_result[0][1] # 0.01\n",
        "# # Лучшая метрика\n",
        "# lowest_err = best_result[0][2] # 0.76"
      ],
      "metadata": {
        "id": "QlPtqRrSBEAX"
      },
      "execution_count": 804,
      "outputs": []
    },
    {
      "cell_type": "code",
      "source": [
        "best_fact = 10\n",
        "best_epoch = 30\n",
        "best_lr = 0.01\n",
        "# Модель с лучшими параметрами\n",
        "svd = SVD(n_factors=best_fact, n_epochs=best_epoch, lr_all=best_lr)\n",
        "# Обучение модели\n",
        "svd.fit(trainset_svd)"
      ],
      "metadata": {
        "colab": {
          "base_uri": "https://localhost:8080/"
        },
        "id": "-MHZJPkaeq0m",
        "outputId": "36dd42d7-0016-4c1c-e868-a60ae42545f2"
      },
      "execution_count": 805,
      "outputs": [
        {
          "output_type": "execute_result",
          "data": {
            "text/plain": [
              "<surprise.prediction_algorithms.matrix_factorization.SVD at 0x7f6d28da5290>"
            ]
          },
          "metadata": {},
          "execution_count": 805
        }
      ]
    },
    {
      "cell_type": "markdown",
      "source": [
        "Ниже представлена функция для расчета основных метрик: Precision@k, Recall@k, f1-score, Average Precision."
      ],
      "metadata": {
        "id": "6LlTn6eQN_bM"
      }
    },
    {
      "cell_type": "code",
      "source": [
        "def classification_metrics(recs_model, average_ratings, test, top_N=10):\n",
        "  ''' Вернет основные метрики и напечатает средние по всем пользователям'''\n",
        "  precisions = defaultdict(float)\n",
        "  recalls = defaultdict(float)\n",
        "  f1_scores = defaultdict(float)\n",
        "  average_precisions = defaultdict(float)\n",
        "  \n",
        "  for user in list(test['userId'].unique()):\n",
        "    test_user = test[test['userId'] == user]\n",
        "    \n",
        "    test_user['relevant'] = test_user['rating'].ge(average_ratings[user]).astype(int)\n",
        "    \n",
        "    number_of_relevants = sum(test_user['relevant'])\n",
        "    recs_user = recs_model[user][:top_N]\n",
        "    \n",
        "    number_of_recs = len(recs_user)\n",
        "    recs_relevant = [test_user.loc[test_user['movieId'] == rec]['relevant'].item() \n",
        "                     for rec in recs_user]\n",
        "    precisions_user = []\n",
        "    for i, rec in enumerate(recs_relevant, start=1):\n",
        "      precisions_user.append(sum(recs_relevant[:i])/(i))\n",
        "    presatk = [precisions_user[i] for i in range(len(precisions_user)) if recs_relevant[i] == 1]\n",
        "    precisions[user] = sum(recs_relevant) / number_of_recs if number_of_recs != 0 else 0\n",
        "    recalls[user] = sum(recs_relevant)/number_of_relevants if number_of_relevants != 0 else 0\n",
        "    f1_scores[user] = (2 * precisions[user] * recalls[user] \n",
        "                       / (precisions[user] + recalls[user])\n",
        "                       if (precisions[user] + recalls[user]) != 0 else 0)\n",
        "    average_precisions[user] = sum(presatk)/len(presatk) if len(presatk) != 0 else 0\n",
        "  print(f'Precision@{top_N}: {sum(prec for prec in precisions.values()) / len(precisions)}')\n",
        "  print(f'Recall@{top_N}: {sum(rec for rec in recalls.values()) / len(recalls)}')\n",
        "  print(f'f1-score: {sum(f1_score for f1_score in f1_scores.values()) / len(f1_scores)}')\n",
        "  print(f'AP: {sum(av_prec for av_prec in average_precisions.values()) / len(average_precisions)}')\n",
        "  return precisions, recalls, f1_scores, average_precisions"
      ],
      "metadata": {
        "id": "zCvt_XAilUhf"
      },
      "execution_count": 806,
      "outputs": []
    },
    {
      "cell_type": "markdown",
      "source": [
        "Получение метрик для рекомендаций с помощью коллаборативной фильтрации"
      ],
      "metadata": {
        "id": "as_ht3kUO5ug"
      }
    },
    {
      "cell_type": "code",
      "source": [
        "_, testset_svd = SVD_train_test_preparation(train, test)\n",
        "# Получение предсказаний с помощью SVD\n",
        "predictions_svd = SVD_make_predictions(svd, testset_svd)\n",
        "# Получение рекомендаций\n",
        "svd_recommendations = SVD_list_recommended(predictions_svd, user_average_rating)"
      ],
      "metadata": {
        "id": "Y54PzMP1Yq1h"
      },
      "execution_count": 807,
      "outputs": []
    },
    {
      "cell_type": "code",
      "source": [
        "print('Metrics. SVD:')\n",
        "(precisions_svd, \n",
        " recalls_svd, \n",
        " f1_scores_svd, \n",
        " average_precisions_svd) = classification_metrics(svd_recommendations,\n",
        "                                                  user_average_rating, \n",
        "                                                  test, top_N=10)"
      ],
      "metadata": {
        "id": "tek-5_Q5mZ9k",
        "colab": {
          "base_uri": "https://localhost:8080/"
        },
        "outputId": "712cacfe-f1cc-4780-eb77-76a612a698ab"
      },
      "execution_count": 808,
      "outputs": [
        {
          "output_type": "stream",
          "name": "stdout",
          "text": [
            "Metrics. SVD:\n",
            "Precision@10: 0.5937575030012006\n",
            "Recall@10: 0.809573358703014\n",
            "f1-score: 0.6459663211431683\n",
            "AP: 0.7696873171037121\n"
          ]
        }
      ]
    },
    {
      "cell_type": "code",
      "source": [
        "print('Metrics. Random:')\n",
        "random_recommendations = random_recommender(test)\n",
        "(precisions_svd, \n",
        " recalls_svd, \n",
        " f1_scores_svd, \n",
        " average_precisions_svd) = classification_metrics(random_recommendations,\n",
        "                                                  user_average_rating, \n",
        "                                                  test, top_N=10)"
      ],
      "metadata": {
        "colab": {
          "base_uri": "https://localhost:8080/"
        },
        "id": "LoNIDiMKwHBx",
        "outputId": "9bb7981e-f8f7-4665-b96f-0cc3df22d079"
      },
      "execution_count": 809,
      "outputs": [
        {
          "output_type": "stream",
          "name": "stdout",
          "text": [
            "Metrics. Random:\n",
            "Precision@10: 0.49675870348139306\n",
            "Recall@10: 0.6539858922812145\n",
            "f1-score: 0.5334414680276376\n",
            "AP: 0.5977604053715221\n"
          ]
        }
      ]
    },
    {
      "cell_type": "markdown",
      "source": [
        "# Гибридная рекомендательная система"
      ],
      "metadata": {
        "id": "OVgNZz9bccx5"
      }
    },
    {
      "cell_type": "markdown",
      "source": [
        "Предобработка данных о фильмах (жанры, год выпуска, название). В итоге, использовал только жанры. "
      ],
      "metadata": {
        "id": "cpr9RzlNPN8K"
      }
    },
    {
      "cell_type": "code",
      "source": [
        "movie_tmp = data_movie[['movieId', 'title', 'genres']].copy()\n",
        "# Разделение названия фильма на название и год выпуска\n",
        "movie_tmp[['title', 'year']] = movie_tmp['title'].str.extract('(.*)\\((\\d{4})\\)', expand=False)\n",
        "# Получение списка жанров для каждого фильма\n",
        "movie_tmp['genres'] = movie_tmp['genres'].str.split('|')\n",
        "# Изменение порядка столбцов для удобства\n",
        "columns_titles = [\"movieId\",\"title\", 'year', 'genres']\n",
        "movie_tmp = movie_tmp.reindex(columns=columns_titles)"
      ],
      "metadata": {
        "id": "tQIHbnOceL6m"
      },
      "execution_count": 810,
      "outputs": []
    },
    {
      "cell_type": "markdown",
      "source": [
        "Обработка данных о тегах, выставленных пользователями к фильмам."
      ],
      "metadata": {
        "id": "KTpxXvjWPbKv"
      }
    },
    {
      "cell_type": "code",
      "source": [
        "tags = data_tag[['movieId', 'tag']].copy()\n",
        "movie_tags = movie_tmp.copy()\n",
        "# Добавим теги к информации о фильмах\n",
        "movie_tags = movie_tags.merge(tags, how='left', on='movieId')\n",
        "# Заполним пропуски соответствующей фразой\n",
        "movie_tags['tag'] = movie_tags['tag'].fillna('No tags here')\n",
        "# Определим уникальные теги для каждого фильма\n",
        "tags_list = movie_tags.groupby('movieId')['tag'].unique()\n",
        "# Добавим список тегов к каждому фильму\n",
        "movie_list = movie_tmp.merge(tags_list, on='movieId', how='left')"
      ],
      "metadata": {
        "id": "b1VcAcatkrzz"
      },
      "execution_count": 811,
      "outputs": []
    },
    {
      "cell_type": "markdown",
      "source": [
        "Поиск релевантных тегов."
      ],
      "metadata": {
        "id": "2sn4KjK6Plvd"
      }
    },
    {
      "cell_type": "code",
      "source": [
        "movie = movie_list.copy()\n",
        "relevance_tag_tmp = data_relevance.copy()\n",
        "map_tag_id = data_tag_id.copy()\n",
        "# Задается процент релевантности\n",
        "RELEVANCE_PERCENT = 0.9\n",
        "# Отбор релевантных тегов\n",
        "relevance_best_tmp = relevance_tag_tmp[relevance_tag_tmp['relevance'] > RELEVANCE_PERCENT]\n",
        "relevance_best_tmp = relevance_best_tmp.merge(map_tag_id, how='left', on='tagId')\n",
        "relevance_best_tmp.rename(columns = {'tag':'tag_relevant'}, inplace = True)\n",
        "# Определение уникальных релевантных тегов для каждого фильма\n",
        "best_tags = relevance_best_tmp.groupby('movieId')['tag_relevant'].unique()\n",
        "# Добавление релевантных тегов к информации о фильмах\n",
        "movie = movie.merge(best_tags, on='movieId', how='left')\n",
        "isnull = movie['tag_relevant'].isnull()\n",
        "# Отметим, если релевантных тегов для фильма нет\n",
        "movie.loc[isnull, 'tag_relevant'] = (\n",
        "    movie.loc[isnull, 'tag_relevant'].apply(lambda x: ['No relevant tags']))"
      ],
      "metadata": {
        "id": "XxjN4uIj6g7N"
      },
      "execution_count": 812,
      "outputs": []
    },
    {
      "cell_type": "markdown",
      "source": [
        "Определение датасета с помощью встроенного класса от LightFM"
      ],
      "metadata": {
        "id": "645g1xEkP4Ld"
      }
    },
    {
      "cell_type": "code",
      "source": [
        "dataset = Dataset()\n",
        "dataset.fit(train['userId'].unique(),\n",
        "            train['movieId'].unique())"
      ],
      "metadata": {
        "id": "MQ-y5oCThK99"
      },
      "execution_count": 813,
      "outputs": []
    },
    {
      "cell_type": "markdown",
      "source": [
        "Бинаризация данных. Необходима для добавления положительных и отрицательных взаимодействий пользователя с фильмами. "
      ],
      "metadata": {
        "id": "2KSBaxnZP-_f"
      }
    },
    {
      "cell_type": "code",
      "source": [
        "# Положительное взаимодействие - рейтинг больше 4, негативное - меньше 4\n",
        "train['new_rating'] = np.where(train['rating'] >= 4, 1, -1)"
      ],
      "metadata": {
        "id": "1mgfo44JOMdl"
      },
      "execution_count": 814,
      "outputs": []
    },
    {
      "cell_type": "markdown",
      "source": [
        "Создание разряженной матрицы взаимодействий и весов."
      ],
      "metadata": {
        "id": "ZS0SRthHQI3v"
      }
    },
    {
      "cell_type": "code",
      "source": [
        "(interactions, weights) = dataset.build_interactions([(x[0], x[1], x[2]) for x in train[['userId', 'movieId', 'new_rating']].values])"
      ],
      "metadata": {
        "id": "6UTg83I2Csa_"
      },
      "execution_count": 815,
      "outputs": []
    },
    {
      "cell_type": "markdown",
      "source": [
        "Количество пользователей и фильмов."
      ],
      "metadata": {
        "id": "w_EamIWpQMbb"
      }
    },
    {
      "cell_type": "code",
      "source": [
        "num_users, num_items = dataset.interactions_shape()\n",
        "print('Num users: {}, num_items {}.'.format(num_users, num_items))"
      ],
      "metadata": {
        "colab": {
          "base_uri": "https://localhost:8080/"
        },
        "id": "--XMZKZbhyeQ",
        "outputId": "951d9663-2995-489a-eda8-f141e25001fd"
      },
      "execution_count": 816,
      "outputs": [
        {
          "output_type": "stream",
          "name": "stdout",
          "text": [
            "Num users: 2499, num_items 1000.\n"
          ]
        }
      ]
    },
    {
      "cell_type": "markdown",
      "source": [
        "Создание признаков фильмов (жанры + релевантные тэги)."
      ],
      "metadata": {
        "id": "irac84VwQSN6"
      }
    },
    {
      "cell_type": "code",
      "source": [
        "movie['year'] = movie['year'].fillna('year_unknown')\n",
        "year_features = movie['year'].unique()\n",
        "genres_features = movie['genres'].explode().unique()\n",
        "tags_relevant_features = movie['tag_relevant'].explode().unique()\n",
        "movie_features = np.append(genres_features, tags_relevant_features)\n",
        "dataset.fit_partial(item_features = movie_features)"
      ],
      "metadata": {
        "id": "572uEM5FzVPY"
      },
      "execution_count": 817,
      "outputs": []
    },
    {
      "cell_type": "markdown",
      "source": [
        "Соответствие индексов из исходного датасета и внутренних индексов в датасете от LightFM."
      ],
      "metadata": {
        "id": "NMR_deCuQfyT"
      }
    },
    {
      "cell_type": "code",
      "source": [
        "lightfm_mapping = dataset.mapping()\n",
        "lightfm_mapping = {\n",
        "    'users_mapping': lightfm_mapping[0],\n",
        "    'user_features_mapping': lightfm_mapping[1],\n",
        "    'movies_mapping': lightfm_mapping[2],\n",
        "    'movie_features_mapping': lightfm_mapping[3],\n",
        "}\n",
        "print('users_mapping len - ', len(lightfm_mapping['users_mapping']))\n",
        "print('user_features_mapping len - ', len(lightfm_mapping['user_features_mapping']))\n",
        "print('movies_mapping len - ', len(lightfm_mapping['movies_mapping']))\n",
        "print('Users movies_features_mapping len - ', len(lightfm_mapping['movie_features_mapping']))"
      ],
      "metadata": {
        "colab": {
          "base_uri": "https://localhost:8080/"
        },
        "id": "QQyuw9p3Qjdt",
        "outputId": "81cfff31-49fa-4854-e489-6fe4dbd9cc63"
      },
      "execution_count": 818,
      "outputs": [
        {
          "output_type": "stream",
          "name": "stdout",
          "text": [
            "users_mapping len -  2499\n",
            "user_features_mapping len -  2499\n",
            "movies_mapping len -  1000\n",
            "Users movies_features_mapping len -  2077\n"
          ]
        }
      ]
    },
    {
      "cell_type": "markdown",
      "source": [
        "Обратное отображение для восстановления данных."
      ],
      "metadata": {
        "id": "_dqMWyZEQqMO"
      }
    },
    {
      "cell_type": "code",
      "source": [
        "lightfm_mapping['users_inv_mapping'] = {v: k for k, v in lightfm_mapping['users_mapping'].items()}\n",
        "lightfm_mapping['movies_inv_mapping'] = {v: k for k, v in lightfm_mapping['movies_mapping'].items()}"
      ],
      "metadata": {
        "id": "DggJ6Cd_R9js"
      },
      "execution_count": 819,
      "outputs": []
    },
    {
      "cell_type": "markdown",
      "source": [
        "Функции для получения генераторов данных, необходимых для дальнейшей работы с моделью."
      ],
      "metadata": {
        "id": "yViHwcgDQuRH"
      }
    },
    {
      "cell_type": "code",
      "source": [
        "def df_to_tuple_iterator(df):\n",
        "    return zip(*df.values.T)\n",
        "\n",
        "def concat_last_to_list(t):\n",
        "    return (t[0], list(t[1:])[0])\n",
        "\n",
        "def df_to_tuple_list_iterator(df):\n",
        "    return map(concat_last_to_list, zip(*df.values.T))"
      ],
      "metadata": {
        "id": "KJHdhsFwSn50"
      },
      "execution_count": 820,
      "outputs": []
    },
    {
      "cell_type": "markdown",
      "source": [
        "Получение разряженной матрицы взаимодействий и весов на основе тренировочного набора данных."
      ],
      "metadata": {
        "id": "7hg0YDckQ63m"
      }
    },
    {
      "cell_type": "code",
      "source": [
        "train_mat, train_mat_weights = dataset.build_interactions(df_to_tuple_iterator(train[['userId', 'movieId', 'new_rating']]))"
      ],
      "metadata": {
        "id": "h5FZxG6Uaa6R"
      },
      "execution_count": 821,
      "outputs": []
    },
    {
      "cell_type": "markdown",
      "source": [
        "Получение признаков на основе жанров и релевантных тегов."
      ],
      "metadata": {
        "id": "HrwvZatARKTt"
      }
    },
    {
      "cell_type": "code",
      "source": [
        "movie['genres'] = movie['genres'].apply(lambda x: list(x))\n",
        "movie['tag_relevant'] = movie['tag_relevant'].apply(lambda x: list(x))\n",
        "movie['features'] = movie['genres'] + movie['tag_relevant']"
      ],
      "metadata": {
        "id": "QE8dycHVe8D2"
      },
      "execution_count": 822,
      "outputs": []
    },
    {
      "cell_type": "markdown",
      "source": [
        "Учет только тех фильмов, что есть в тренировочном наборе данных."
      ],
      "metadata": {
        "id": "1dgrBfkJRP8n"
      }
    },
    {
      "cell_type": "code",
      "source": [
        "known_movie_filter = movie['movieId'].isin(train['movieId'].unique())\n",
        "train_movie_features = dataset.build_item_features(\n",
        "    df_to_tuple_list_iterator(\n",
        "        movie.loc[known_movie_filter, ['movieId', 'features']]\n",
        "    )\n",
        ")"
      ],
      "metadata": {
        "id": "Z1_dz2mzdFPe"
      },
      "execution_count": 823,
      "outputs": []
    },
    {
      "cell_type": "code",
      "source": [
        "def hybrid_list_recommended(lightfm_mapping, test, ranks):\n",
        "  '''Выдаст рекомендации с помощью гибридной модели.'''\n",
        "  recommendations = defaultdict(list)\n",
        "  for user in list(test['userId'].unique()):\n",
        "    max_num_recs = test[test['userId'] == user].shape[0]\n",
        "    row_id = lightfm_mapping['users_mapping'][user]\n",
        "    temp = list(test[test.userId == user].movieId.values)\n",
        "    res = list(map(lambda x: lightfm_mapping['movies_mapping'][x], temp))\n",
        "    result = []\n",
        "    for movie_rank in res:\n",
        "      result.append((lightfm_mapping['movies_inv_mapping'][movie_rank], ranks[row_id, movie_rank]))\n",
        "    recs_tmp = sorted(result, key=lambda x: x[1], reverse=True)\n",
        "    recommendations[user] = [x[0] for x in recs_tmp]\n",
        "  return recommendations"
      ],
      "metadata": {
        "id": "hXIitkpjmpDA"
      },
      "execution_count": 824,
      "outputs": []
    },
    {
      "cell_type": "code",
      "source": [
        "def ap_gridsearch(recs_model, average_ratings, test, top_N=10):\n",
        "  '''Выдаст среднее значение Precision@k для Gridsearсh'''\n",
        "  average_precisions = defaultdict(float)\n",
        "  for user in list(test['userId'].unique()):\n",
        "    test_user = test[test['userId'] == user]\n",
        "    test_user['relevant'] = test_user['rating'].ge(average_ratings[user]).astype(int)\n",
        "    recs_user = recs_model[user][:top_N]\n",
        "    recs_relevant = [test_user.loc[test_user['movieId'] == rec]['relevant'].item() \n",
        "                     for rec in recs_user]\n",
        "    precisions_user = []\n",
        "    for i, rec in enumerate(recs_relevant, start=1):\n",
        "      precisions_user.append(sum(recs_relevant[:i])/(i))\n",
        "    presatk = [precisions_user[i] for i in range(len(precisions_user)) if recs_relevant[i] == 1]\n",
        "    average_precisions[user] = sum(presatk)/len(presatk) if len(presatk) != 0 else 0\n",
        "  print(f'AP: {sum(av_prec for av_prec in average_precisions.values()) / len(average_precisions)}')\n",
        "  return sum(av_prec for av_prec in average_precisions.values()) / len(average_precisions)"
      ],
      "metadata": {
        "id": "p4beXibOVZHf"
      },
      "execution_count": 825,
      "outputs": []
    },
    {
      "cell_type": "markdown",
      "source": [
        "Подбор гиперпараметров модели."
      ],
      "metadata": {
        "id": "q-QHwP5rRvUB"
      }
    },
    {
      "cell_type": "code",
      "source": [
        "# hybrid_ap = []\n",
        "# for compon in range(50, 110, 50):\n",
        "#   for lr in [0.05, 0.15, 0.5]:\n",
        "#     for epoch in [7]:\n",
        "#       lfm_model = LightFM(no_components=compon, \n",
        "#                           learning_rate=lr,\n",
        "#                           loss='logistic')\n",
        "#       for _ in tqdm(range(epoch), total=epoch):\n",
        "#           lfm_model.fit_partial(\n",
        "#               train_mat,\n",
        "#               sample_weight=train_mat_weights,\n",
        "#               item_features=train_movie_features,\n",
        "#               num_threads=4\n",
        "#           )\n",
        "#       val_mat, val_mat_weights = dataset.build_interactions(df_to_tuple_iterator(val[['userId', 'movieId']]))\n",
        "#       ranks = lfm_model.predict_rank(val_mat,\n",
        "#                                     train_interactions=train_mat,\n",
        "#                                     item_features=train_movie_features)\n",
        "#       recommendations_grid = hybrid_list_recommended(lightfm_mapping, val, ranks)\n",
        "#       score = ap_gridsearch(recommendations_grid, user_average_rating, val)\n",
        "#       hybrid_ap.append((compon, epoch, lr, score))\n"
      ],
      "metadata": {
        "id": "UoJMgYSqgHYs"
      },
      "execution_count": 826,
      "outputs": []
    },
    {
      "cell_type": "markdown",
      "source": [
        "Выбор лучших параметров."
      ],
      "metadata": {
        "id": "mMJlmdDWX_l4"
      }
    },
    {
      "cell_type": "code",
      "source": [
        "# # Получение лучшей метрики и соответствующих ей параметрам\n",
        "# best_result = sorted(hybrid_ap, key=lambda x: x[3], reverse=True)\n",
        "# # Размерность вектора скрытых признаков\n",
        "# best_compon = best_result[0][0] # 50\n",
        "# # Количество эпох обучения стохастического градиентного спуска\n",
        "# best_epoch = best_result[0][1] # 7\n",
        "# # Скорость обучения\n",
        "# best_lr = best_result[0][2] # 0.5\n",
        "# # Лучшая метрика\n",
        "# biggest_err = best_result[0][3] # 0.62\n",
        "# best_compon"
      ],
      "metadata": {
        "id": "mSWGo2lrW97g"
      },
      "execution_count": 827,
      "outputs": []
    },
    {
      "cell_type": "markdown",
      "source": [
        "Обучение модели с лучшими параметрами."
      ],
      "metadata": {
        "id": "MTZk1ZVgYDS4"
      }
    },
    {
      "cell_type": "code",
      "source": [
        "best_compon = 50\n",
        "best_epoch = 7\n",
        "best_lr = 0.5\n",
        "\n",
        "# Модель с лучшими параметрами\n",
        "lfm_model = LightFM(no_components=best_compon, \n",
        "                          learning_rate=best_lr,\n",
        "                          loss='logistic')\n",
        "# Обучение модели\n",
        "for _ in tqdm(range(best_epoch), total=best_epoch):\n",
        "          lfm_model.fit_partial(\n",
        "              train_mat,\n",
        "              sample_weight=train_mat_weights,\n",
        "              item_features=train_movie_features,\n",
        "              num_threads=4)"
      ],
      "metadata": {
        "colab": {
          "base_uri": "https://localhost:8080/",
          "height": 49,
          "referenced_widgets": [
            "dbc8b5bb75e84810a621220d39d4c1f0",
            "f2945bca7f734195b549af9ebb577d18",
            "94939cf85b8741fcb0dc4022218e0fc6",
            "be454672494944a8a4701ad2f1de0839",
            "3d0e34a5305b44fa94dde07f736ff4ee",
            "cfb93911a70e4126bc1da7089a0f84f0",
            "114ae42cbd3a45b79a86b89b5817c37a",
            "fa7962e3088941308108d0055ca005f4",
            "adb1ffab415d4dc6b9adf6b5ad5d3935",
            "691dca1d773e40038b37fef43836c35d",
            "9cd4fa3a73224fcb87eb36e937f1db07"
          ]
        },
        "id": "7tKf_sqcXjMh",
        "outputId": "ee6167cd-df8a-42ec-ab23-6ed9a2742e4a"
      },
      "execution_count": 828,
      "outputs": [
        {
          "output_type": "display_data",
          "data": {
            "text/plain": [
              "  0%|          | 0/7 [00:00<?, ?it/s]"
            ],
            "application/vnd.jupyter.widget-view+json": {
              "version_major": 2,
              "version_minor": 0,
              "model_id": "dbc8b5bb75e84810a621220d39d4c1f0"
            }
          },
          "metadata": {}
        }
      ]
    },
    {
      "cell_type": "markdown",
      "source": [
        "Рекомендации на тестовом наборе данных."
      ],
      "metadata": {
        "id": "VXi9v9xPYGTb"
      }
    },
    {
      "cell_type": "code",
      "source": [
        "test_mat, test_mat_weights = dataset.build_interactions(df_to_tuple_iterator(test[['userId', 'movieId']]))\n",
        "ranks = lfm_model.predict_rank(test_mat,\n",
        "                              train_interactions=train_mat,\n",
        "                              item_features=train_movie_features)\n",
        "recommendations_hybrid = hybrid_list_recommended(lightfm_mapping, test, ranks)"
      ],
      "metadata": {
        "id": "uQMzcrOBXmD2"
      },
      "execution_count": 829,
      "outputs": []
    },
    {
      "cell_type": "markdown",
      "source": [
        "Метрики полученных рекомендаций. "
      ],
      "metadata": {
        "id": "DyDqwCX7R94_"
      }
    },
    {
      "cell_type": "code",
      "source": [
        "print('Metrics. Hybrid:')\n",
        "(precisions_hybrid, \n",
        " recalls_hybrid, \n",
        " f1_scores_hybrid, \n",
        " average_precisions_hybrid) = classification_metrics(recommendations_hybrid, \n",
        "                                                     user_average_rating, \n",
        "                                                     test, top_N=10)"
      ],
      "metadata": {
        "colab": {
          "base_uri": "https://localhost:8080/"
        },
        "id": "8UGPqn8JLKuG",
        "outputId": "07ca616e-3fd6-45ab-fc76-655b20d88544"
      },
      "execution_count": 831,
      "outputs": [
        {
          "output_type": "stream",
          "name": "stdout",
          "text": [
            "Metrics. Hybrid:\n",
            "Precision@10: 0.5217286914765902\n",
            "Recall@10: 0.6922994505827659\n",
            "f1-score: 0.5621251365849366\n",
            "AP: 0.6395548471341174\n"
          ]
        }
      ]
    },
    {
      "cell_type": "code",
      "source": [
        ""
      ],
      "metadata": {
        "id": "gRKOFxTB5z2u"
      },
      "execution_count": null,
      "outputs": []
    }
  ]
}